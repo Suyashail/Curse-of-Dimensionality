{
  "nbformat": 4,
  "nbformat_minor": 0,
  "metadata": {
    "colab": {
      "name": "curse_of_dimensionality(Cartesian and Polar).ipynb",
      "provenance": [],
      "collapsed_sections": []
    },
    "kernelspec": {
      "name": "python3",
      "display_name": "Python 3"
    }
  },
  "cells": [
    {
      "cell_type": "code",
      "metadata": {
        "id": "QNXb4vKhYoaj"
      },
      "source": [
        "import numpy as np"
      ],
      "execution_count": 1,
      "outputs": []
    },
    {
      "cell_type": "code",
      "metadata": {
        "id": "hfTlKg3xdlyD"
      },
      "source": [
        "# convert from polar coordinates to cartesian coordinates\n",
        "def get_cards_from_pol (x):\n",
        "  '''\n",
        "  # Suyash\n",
        "  This function takes in an n-dimensional vector defined in the cartesian coordinates and returns the \n",
        "  vector in its polar coordinates.\n",
        "  '''\n",
        "  y = np.zeros(len(x))\n",
        "  for j in range(len(y)):\n",
        "    val = 1\n",
        "    i=0\n",
        "    while i < len(x) - j-1:\n",
        "        val = val*np.cos(x[i+1])\n",
        "        i=i+1\n",
        "    if j>0:\n",
        "      val = val*np.sin(x[i+1])\n",
        "    y[j] = x[0]*val  \n",
        "  return y"
      ],
      "execution_count": 2,
      "outputs": []
    },
    {
      "cell_type": "code",
      "metadata": {
        "id": "GhJHEOhkOxym"
      },
      "source": [
        "#new implementation\n",
        "def get_carts_from_polar(x):\n",
        "  '''\n",
        "  # Manu\n",
        "  This function takes in an n-dimensional vector defined in the cartesian coordinates and returns the \n",
        "  vector in its polar coordinates.\n",
        "  '''\n",
        "  r = x[0]\n",
        "  thts = x[1:] #thetas\n",
        "  thts = thts[::-1] #to make things easier\n",
        "\n",
        "  y = np.zeros(len(x))\n",
        "  ld = 1 #lower dim\n",
        "  current = 0\n",
        "\n",
        "  for idx, th in enumerate(thts):\n",
        "    \n",
        "    current = ld * np.cos(th)\n",
        "    y[idx] = r*current\n",
        "\n",
        "    ld = ld * np.sin(th)\n",
        "    \n",
        "  y[-1] = r*ld\n",
        "  y = y[::-1] #to get in xyz format\n",
        "\n",
        "  return y\n"
      ],
      "execution_count": 3,
      "outputs": []
    },
    {
      "cell_type": "markdown",
      "metadata": {
        "id": "iTr8I4o8pei2"
      },
      "source": [
        "# Here I am defining a separate function to carry out all the tasks performed earlier."
      ]
    },
    {
      "cell_type": "code",
      "metadata": {
        "id": "YpUOGrzeRtbs"
      },
      "source": [
        "def get_count_polar(x):\n",
        "  '''\n",
        "  This function takes in a set of m vectors and calculates the number of vectors that are located on\n",
        "  the surface of an n-dimensional sphere.\n",
        "\n",
        "  The first element of the vector corresponds to the radius. If the radius is greater than the threshold,\n",
        "  the count is increased by 1.\n",
        "  '''\n",
        "  count = 0 \n",
        "  for x_r in x:\n",
        "    if x_r[0]>0.99:\n",
        "      count+=1\n",
        "  return count\n",
        "\n",
        "def get_count_cartesian(x):\n",
        "  '''\n",
        "  This function takes in a set of m vectors and calculates the number of vectors that are located on\n",
        "  the surface of an n-dimensional cube.\n",
        "\n",
        "  Each element of a vector is compared with a threshold value. If any element of the vector exceeds the\n",
        "  threshold, the count is increased by 1.\n",
        "  '''\n",
        "  count = 0\n",
        "  for x_r in x:\n",
        "    d = x_r>0.9999      # increase decimal count decrease\n",
        "    d = d.astype(int)\n",
        "    sum = np.sum(d)\n",
        "    if sum>0:\n",
        "      count+=1\n",
        "  return count\n",
        "\n",
        "def get_distance(x,x_new):\n",
        "  '''\n",
        "  This function calculates the Euclidean distance of a new point in the n-dimensional space with all the\n",
        "  m vectors. \n",
        "\n",
        "  Returns the mean distance of the point to every other point and the variance between the distances.\n",
        "  '''\n",
        "  distance = []\n",
        "  for x_r in x:\n",
        "    dist = np.linalg.norm(x_r-x_new)\n",
        "    distance.append(dist)\n",
        "  mean = np.mean(distance)\n",
        "  variance = np.var(distance)\n",
        "  return mean,variance\n",
        "\n",
        "\n",
        "def curse(n_dimensions,n_samples):\n",
        "  '''\n",
        "  This function performs the following tasks in both cartesian and polar coordinates:\n",
        "\n",
        "  1. Define m n-dimensional points/vectors.\n",
        "  2. Calculate the number of points on the surface of an n-dimensional object\n",
        "  3. Calculate the distance of a random point in the n-dimensional space with all the m-points\n",
        "     and compute the mean distance and variance in the distances.\n",
        "\n",
        "  Input arguments:\n",
        "  n_dimensions : The length of the vector (dimensionality)\n",
        "  n_samples : Number of vectors in the n-dimensional space\n",
        "\n",
        "  Output argument:\n",
        "  count_cart : Number of points on the surface of the n-dimensional cube\n",
        "  mean_dist_cart : Mean distance of a point from all the points (points defined in cartesian coordinates)\n",
        "  var_dist_cart : Variance in the distances (points defined in cartesian coordinates)\n",
        "  count_pol : Number of points on the surface of the n-dimensional sphere\n",
        "  mean_dist_pol : Mean distance of a point from all the points (points defined in polar coordinates)\n",
        "  var_dist_pol : Variance in the distances (points defined in polar coordinates)\n",
        "  '''\n",
        "  x = np.array([[np.random.uniform() for i in range(n_dimensions)] for j in range(n_samples)]) # define a list of m n-dimensional vectors\n",
        "  x_new = np.array([np.random.uniform() for i in range(n_dimensions)])  # define a random point in the same space\n",
        "  \n",
        "  # cartesian coordinates\n",
        "  count_cart = get_count_cartesian(x)\n",
        "  mean_dist_cart, var_dist_cart = get_distance(x,x_new)\n",
        "\n",
        "  # polar coordinates \n",
        "  # vector of the form [r, theta1,theta2,...]\n",
        "  x[:,1:-1] = x[:,1:-1]*np.pi   # convert the elements to angles.\n",
        "  x[:,-1]=x[:,-1]*np.pi*2\n",
        "  x_new[1:] = x_new[1:]*np.pi\n",
        "  x[-1]=x[-1]*np.pi*2\n",
        "  count_pol = get_count_polar(x)  #get the count of points on the surface\n",
        "  \n",
        "\n",
        "  y = [get_carts_from_polar(x_r) for x_r in x]  # convert to cartesian coordinates\n",
        "  y_new = get_carts_from_polar(x_new) \n",
        "\n",
        "  mean_dist_pol, var_dist_pol = get_distance(y,y_new)\n",
        "  return count_cart,mean_dist_cart,var_dist_cart,count_pol,mean_dist_pol, var_dist_pol\n"
      ],
      "execution_count": 4,
      "outputs": []
    },
    {
      "cell_type": "code",
      "metadata": {
        "id": "oh8p2eNHbON8",
        "colab": {
          "base_uri": "https://localhost:8080/"
        },
        "outputId": "e812bb09-bf77-47de-eff3-aa2b1ac173af"
      },
      "source": [
        "count_cart,mean_dist_cart, var_dist_cart,count_pol,mean_dist_pol, var_dist_pol=curse(1000,1000)\n",
        "\n",
        "print(\"Number of points on surface of n-D cube:\",count_cart)\n",
        "print(\"Mean distance:\", mean_dist_cart)\n",
        "print(\"Variance:\",var_dist_cart)\n",
        "print()\n",
        "print(\"Number of points on surface of n-D sphere:\",count_pol)\n",
        "print(\"Mean distance:\", mean_dist_pol)\n",
        "print(\"Variance:\",var_dist_pol)\n"
      ],
      "execution_count": 5,
      "outputs": [
        {
          "output_type": "stream",
          "text": [
            "Number of points on surface of n-D cube: 100\n",
            "Mean distance: 13.051196364812087\n",
            "Variance: 0.044008756500694884\n",
            "\n",
            "Number of points on surface of n-D sphere: 10\n",
            "Mean distance: 1.0778633659601369\n",
            "Variance: 0.14210096471024558\n"
          ],
          "name": "stdout"
        }
      ]
    },
    {
      "cell_type": "code",
      "metadata": {
        "id": "vmiZgZ0RFzUu"
      },
      "source": [
        "'''\n",
        "This function is to convert the cartesian coordinates back to polar coordinates. The problem as of\n",
        "now is that the numpy's arccos returns only angles between 0-pi. However in the original polar coordinates,\n",
        "the last angle varies between 0-2pi.\n",
        "\n",
        "This gives a correct answer when all random angles are less than pi but gives error when even one angle\n",
        "is greater than pi. \n",
        "\n",
        "I still have to fix this\n",
        "'''\n",
        "\n",
        "def get_pol_from_cart(x):\n",
        "  '''\n",
        "  The logic is\n",
        "  y[0] is the radius - norm of all elements\n",
        "  y[1] = acos(y/root(x^2+y^2))\n",
        "  y[2] = acos(z/root(x^2+y^2+z^2))\n",
        "  .\n",
        "  .\n",
        "  .\n",
        "  \n",
        "  '''\n",
        "  x = np.array(x)\n",
        "  y = np.zeros(len(x))\n",
        "  y[0] = np.linalg.norm(x)    # radius\n",
        "  for i in range(1,len(x)):\n",
        "    y[i] = np.arccos(x[i]/np.linalg.norm(x[:i+1]))\n",
        "  return y"
      ],
      "execution_count": null,
      "outputs": []
    },
    {
      "cell_type": "code",
      "metadata": {
        "colab": {
          "base_uri": "https://localhost:8080/"
        },
        "id": "u3lj0lNGNJgo",
        "outputId": "a4161c69-dd46-4d2b-8799-4559c0d3d29e"
      },
      "source": [
        "x = np.array([np.random.uniform() for i in range(4)])\n",
        "x_pol = x.copy()\n",
        "x_pol[1:-1] = x_pol[1:-1]*np.pi\n",
        "x_pol[-1] = x_pol[-1]*np.pi*2\n",
        "print(\"x in polar:\",x_pol)\n",
        "x_cart = get_carts_from_polar(x_pol)\n",
        "print(\"x in cartesian:\",x_cart)\n",
        "x_re_pol = get_pol_from_cart(x_cart)\n",
        "print(\"x in pol:\", x_re_pol)"
      ],
      "execution_count": null,
      "outputs": [
        {
          "output_type": "stream",
          "text": [
            "x in polar: [0.32554158 1.4128717  2.07269645 0.5334497 ]\n",
            "x in cartesian: [ 0.14331808  0.02282351 -0.07964004  0.28031018]\n",
            "x in pol: [0.32554158 1.4128717  2.07269645 0.5334497 ]\n"
          ],
          "name": "stdout"
        }
      ]
    },
    {
      "cell_type": "code",
      "metadata": {
        "id": "lMtpGj1GN47q"
      },
      "source": [
        ""
      ],
      "execution_count": null,
      "outputs": []
    }
  ]
}